{
 "cells": [
  {
   "cell_type": "markdown",
   "metadata": {},
   "source": [
    "# **Applying Machine Learning Techniques to improve Linux Process Scheduling**"
   ]
  },
  {
   "cell_type": "markdown",
   "metadata": {},
   "source": [
    "## Import neccessary libraries"
   ]
  },
  {
   "cell_type": "code",
   "execution_count": 706,
   "metadata": {},
   "outputs": [],
   "source": [
    "import numpy as np\n",
    "import pandas as pd\n",
    "import matplotlib.pyplot as plt\n",
    "import seaborn as sns\n",
    "from sklearn.tree import DecisionTreeClassifier\n",
    "from sklearn.metrics import classification_report, confusion_matrix, ConfusionMatrixDisplay\n",
    "import matplotlib.pyplot as plt\n",
    "from sklearn.ensemble import RandomForestClassifier, StackingClassifier\n",
    "from sklearn.linear_model import LogisticRegression\n",
    "from sklearn.preprocessing import LabelEncoder\n",
    "from sklearn.model_selection import train_test_split\n",
    "import joblib\n",
    "import matplotlib.pyplot as plt\n",
    "import seaborn as sns\n",
    "from sklearn.metrics import confusion_matrix"
   ]
  },
  {
   "cell_type": "markdown",
   "metadata": {},
   "source": [
    "# # Data Collection"
   ]
  },
  {
   "cell_type": "code",
   "execution_count": 707,
   "metadata": {},
   "outputs": [
    {
     "data": {
      "text/html": [
       "<div>\n",
       "<style scoped>\n",
       "    .dataframe tbody tr th:only-of-type {\n",
       "        vertical-align: middle;\n",
       "    }\n",
       "\n",
       "    .dataframe tbody tr th {\n",
       "        vertical-align: top;\n",
       "    }\n",
       "\n",
       "    .dataframe thead th {\n",
       "        text-align: right;\n",
       "    }\n",
       "</style>\n",
       "<table border=\"1\" class=\"dataframe\">\n",
       "  <thead>\n",
       "    <tr style=\"text-align: right;\">\n",
       "      <th></th>\n",
       "      <th>InputSize</th>\n",
       "      <th>ProgramSize</th>\n",
       "      <th>BSS</th>\n",
       "      <th>RoData</th>\n",
       "      <th>Text</th>\n",
       "      <th>InputType</th>\n",
       "      <th>STSclass</th>\n",
       "    </tr>\n",
       "  </thead>\n",
       "  <tbody>\n",
       "    <tr>\n",
       "      <th>0</th>\n",
       "      <td>7370</td>\n",
       "      <td>7851</td>\n",
       "      <td>19</td>\n",
       "      <td>4492</td>\n",
       "      <td>18371</td>\n",
       "      <td>Reverse Sorted</td>\n",
       "      <td>Short burst</td>\n",
       "    </tr>\n",
       "    <tr>\n",
       "      <th>1</th>\n",
       "      <td>960</td>\n",
       "      <td>26421</td>\n",
       "      <td>667</td>\n",
       "      <td>3717</td>\n",
       "      <td>36297</td>\n",
       "      <td>Sorted</td>\n",
       "      <td>Medium burst</td>\n",
       "    </tr>\n",
       "    <tr>\n",
       "      <th>2</th>\n",
       "      <td>5490</td>\n",
       "      <td>19840</td>\n",
       "      <td>748</td>\n",
       "      <td>4880</td>\n",
       "      <td>21996</td>\n",
       "      <td>Sorted</td>\n",
       "      <td>Medium burst</td>\n",
       "    </tr>\n",
       "    <tr>\n",
       "      <th>3</th>\n",
       "      <td>5291</td>\n",
       "      <td>15401</td>\n",
       "      <td>757</td>\n",
       "      <td>1326</td>\n",
       "      <td>29753</td>\n",
       "      <td>Sorted</td>\n",
       "      <td>Medium burst</td>\n",
       "    </tr>\n",
       "    <tr>\n",
       "      <th>4</th>\n",
       "      <td>5834</td>\n",
       "      <td>11138</td>\n",
       "      <td>473</td>\n",
       "      <td>592</td>\n",
       "      <td>46174</td>\n",
       "      <td>Constant</td>\n",
       "      <td>Long burst</td>\n",
       "    </tr>\n",
       "    <tr>\n",
       "      <th>...</th>\n",
       "      <td>...</td>\n",
       "      <td>...</td>\n",
       "      <td>...</td>\n",
       "      <td>...</td>\n",
       "      <td>...</td>\n",
       "      <td>...</td>\n",
       "      <td>...</td>\n",
       "    </tr>\n",
       "    <tr>\n",
       "      <th>9994</th>\n",
       "      <td>1209</td>\n",
       "      <td>23305</td>\n",
       "      <td>606</td>\n",
       "      <td>4562</td>\n",
       "      <td>17092</td>\n",
       "      <td>Random</td>\n",
       "      <td>Short burst</td>\n",
       "    </tr>\n",
       "    <tr>\n",
       "      <th>9995</th>\n",
       "      <td>7029</td>\n",
       "      <td>30944</td>\n",
       "      <td>720</td>\n",
       "      <td>488</td>\n",
       "      <td>36654</td>\n",
       "      <td>Reverse Sorted</td>\n",
       "      <td>Long burst</td>\n",
       "    </tr>\n",
       "    <tr>\n",
       "      <th>9996</th>\n",
       "      <td>1350</td>\n",
       "      <td>20643</td>\n",
       "      <td>141</td>\n",
       "      <td>214</td>\n",
       "      <td>13451</td>\n",
       "      <td>Reverse Sorted</td>\n",
       "      <td>Short burst</td>\n",
       "    </tr>\n",
       "    <tr>\n",
       "      <th>9997</th>\n",
       "      <td>8277</td>\n",
       "      <td>10792</td>\n",
       "      <td>597</td>\n",
       "      <td>3387</td>\n",
       "      <td>14991</td>\n",
       "      <td>Random</td>\n",
       "      <td>Short burst</td>\n",
       "    </tr>\n",
       "    <tr>\n",
       "      <th>9998</th>\n",
       "      <td>1749</td>\n",
       "      <td>43344</td>\n",
       "      <td>771</td>\n",
       "      <td>3400</td>\n",
       "      <td>13669</td>\n",
       "      <td>Reverse Sorted</td>\n",
       "      <td>Medium burst</td>\n",
       "    </tr>\n",
       "  </tbody>\n",
       "</table>\n",
       "<p>9999 rows × 7 columns</p>\n",
       "</div>"
      ],
      "text/plain": [
       "      InputSize  ProgramSize  BSS  RoData   Text       InputType      STSclass\n",
       "0          7370         7851   19    4492  18371  Reverse Sorted   Short burst\n",
       "1           960        26421  667    3717  36297          Sorted  Medium burst\n",
       "2          5490        19840  748    4880  21996          Sorted  Medium burst\n",
       "3          5291        15401  757    1326  29753          Sorted  Medium burst\n",
       "4          5834        11138  473     592  46174        Constant    Long burst\n",
       "...         ...          ...  ...     ...    ...             ...           ...\n",
       "9994       1209        23305  606    4562  17092          Random   Short burst\n",
       "9995       7029        30944  720     488  36654  Reverse Sorted    Long burst\n",
       "9996       1350        20643  141     214  13451  Reverse Sorted   Short burst\n",
       "9997       8277        10792  597    3387  14991          Random   Short burst\n",
       "9998       1749        43344  771    3400  13669  Reverse Sorted  Medium burst\n",
       "\n",
       "[9999 rows x 7 columns]"
      ]
     },
     "execution_count": 707,
     "metadata": {},
     "output_type": "execute_result"
    }
   ],
   "source": [
    "# Load the dataset\n",
    "df = pd.read_csv(r\"Dataset\\Linux_Scheduling_Dataset.csv\")\n",
    "df"
   ]
  },
  {
   "cell_type": "markdown",
   "metadata": {},
   "source": [
    "### Analyze the data"
   ]
  },
  {
   "cell_type": "code",
   "execution_count": 708,
   "metadata": {},
   "outputs": [
    {
     "data": {
      "text/plain": [
       "(9999, 7)"
      ]
     },
     "execution_count": 708,
     "metadata": {},
     "output_type": "execute_result"
    }
   ],
   "source": [
    "df.shape"
   ]
  },
  {
   "cell_type": "code",
   "execution_count": 709,
   "metadata": {},
   "outputs": [
    {
     "name": "stdout",
     "output_type": "stream",
     "text": [
      "<class 'pandas.core.frame.DataFrame'>\n",
      "RangeIndex: 9999 entries, 0 to 9998\n",
      "Data columns (total 7 columns):\n",
      " #   Column       Non-Null Count  Dtype \n",
      "---  ------       --------------  ----- \n",
      " 0   InputSize    9999 non-null   int64 \n",
      " 1   ProgramSize  9999 non-null   int64 \n",
      " 2   BSS          9999 non-null   int64 \n",
      " 3   RoData       9999 non-null   int64 \n",
      " 4   Text         9999 non-null   int64 \n",
      " 5   InputType    9999 non-null   object\n",
      " 6   STSclass     9999 non-null   object\n",
      "dtypes: int64(5), object(2)\n",
      "memory usage: 546.9+ KB\n"
     ]
    }
   ],
   "source": [
    "df.info()"
   ]
  },
  {
   "cell_type": "code",
   "execution_count": 710,
   "metadata": {},
   "outputs": [
    {
     "data": {
      "text/html": [
       "<div>\n",
       "<style scoped>\n",
       "    .dataframe tbody tr th:only-of-type {\n",
       "        vertical-align: middle;\n",
       "    }\n",
       "\n",
       "    .dataframe tbody tr th {\n",
       "        vertical-align: top;\n",
       "    }\n",
       "\n",
       "    .dataframe thead th {\n",
       "        text-align: right;\n",
       "    }\n",
       "</style>\n",
       "<table border=\"1\" class=\"dataframe\">\n",
       "  <thead>\n",
       "    <tr style=\"text-align: right;\">\n",
       "      <th></th>\n",
       "      <th>InputSize</th>\n",
       "      <th>ProgramSize</th>\n",
       "      <th>BSS</th>\n",
       "      <th>RoData</th>\n",
       "      <th>Text</th>\n",
       "    </tr>\n",
       "  </thead>\n",
       "  <tbody>\n",
       "    <tr>\n",
       "      <th>count</th>\n",
       "      <td>9999.000000</td>\n",
       "      <td>9999.00000</td>\n",
       "      <td>9999.000000</td>\n",
       "      <td>9999.000000</td>\n",
       "      <td>9999.000000</td>\n",
       "    </tr>\n",
       "    <tr>\n",
       "      <th>mean</th>\n",
       "      <td>5013.664266</td>\n",
       "      <td>25000.09991</td>\n",
       "      <td>505.140914</td>\n",
       "      <td>2540.044804</td>\n",
       "      <td>25267.663166</td>\n",
       "    </tr>\n",
       "    <tr>\n",
       "      <th>std</th>\n",
       "      <td>2852.979722</td>\n",
       "      <td>14233.19792</td>\n",
       "      <td>286.488796</td>\n",
       "      <td>1422.095308</td>\n",
       "      <td>14091.471860</td>\n",
       "    </tr>\n",
       "    <tr>\n",
       "      <th>min</th>\n",
       "      <td>101.000000</td>\n",
       "      <td>505.00000</td>\n",
       "      <td>10.000000</td>\n",
       "      <td>50.000000</td>\n",
       "      <td>1001.000000</td>\n",
       "    </tr>\n",
       "    <tr>\n",
       "      <th>25%</th>\n",
       "      <td>2562.500000</td>\n",
       "      <td>12708.50000</td>\n",
       "      <td>259.000000</td>\n",
       "      <td>1317.000000</td>\n",
       "      <td>13112.500000</td>\n",
       "    </tr>\n",
       "    <tr>\n",
       "      <th>50%</th>\n",
       "      <td>4992.000000</td>\n",
       "      <td>24646.00000</td>\n",
       "      <td>506.000000</td>\n",
       "      <td>2555.000000</td>\n",
       "      <td>25238.000000</td>\n",
       "    </tr>\n",
       "    <tr>\n",
       "      <th>75%</th>\n",
       "      <td>7450.500000</td>\n",
       "      <td>37308.00000</td>\n",
       "      <td>750.500000</td>\n",
       "      <td>3761.000000</td>\n",
       "      <td>37409.000000</td>\n",
       "    </tr>\n",
       "    <tr>\n",
       "      <th>max</th>\n",
       "      <td>10000.000000</td>\n",
       "      <td>50000.00000</td>\n",
       "      <td>1000.000000</td>\n",
       "      <td>4998.000000</td>\n",
       "      <td>49996.000000</td>\n",
       "    </tr>\n",
       "  </tbody>\n",
       "</table>\n",
       "</div>"
      ],
      "text/plain": [
       "          InputSize  ProgramSize          BSS       RoData          Text\n",
       "count   9999.000000   9999.00000  9999.000000  9999.000000   9999.000000\n",
       "mean    5013.664266  25000.09991   505.140914  2540.044804  25267.663166\n",
       "std     2852.979722  14233.19792   286.488796  1422.095308  14091.471860\n",
       "min      101.000000    505.00000    10.000000    50.000000   1001.000000\n",
       "25%     2562.500000  12708.50000   259.000000  1317.000000  13112.500000\n",
       "50%     4992.000000  24646.00000   506.000000  2555.000000  25238.000000\n",
       "75%     7450.500000  37308.00000   750.500000  3761.000000  37409.000000\n",
       "max    10000.000000  50000.00000  1000.000000  4998.000000  49996.000000"
      ]
     },
     "execution_count": 710,
     "metadata": {},
     "output_type": "execute_result"
    }
   ],
   "source": [
    "df.describe()"
   ]
  },
  {
   "cell_type": "code",
   "execution_count": 711,
   "metadata": {},
   "outputs": [
    {
     "data": {
      "text/plain": [
       "Index(['InputSize', 'ProgramSize', 'BSS', 'RoData', 'Text', 'InputType',\n",
       "       'STSclass'],\n",
       "      dtype='object')"
      ]
     },
     "execution_count": 711,
     "metadata": {},
     "output_type": "execute_result"
    }
   ],
   "source": [
    "df.columns"
   ]
  },
  {
   "cell_type": "markdown",
   "metadata": {},
   "source": [
    "### **Dataset Description:  Linux Process Scheduling Dataset**\n",
    "\n",
    "This dataset contains **9999 samples** and represents **process execution characteristics** to predict the best **Special Time Slice (STS) category**.\n",
    "\n",
    "---\n",
    "\n",
    "## **1. Dataset Summary**\n",
    "| Feature Name     | Data Type | Description |\n",
    "|-----------------|-----------|-------------|\n",
    "| **Input_Size**   | Integer | The size of the input given to the process (Range: **100 - 2000**). |\n",
    "| **Program_Size** | Integer | The total size of the program in bytes (Range: **1000 - 50000**). |\n",
    "| **BSS_Size**     | Integer | Size of the **BSS (Block Started by Symbol) section**, which contains uninitialized global variables (Range: **500 - 10000**). |\n",
    "| **RoData_Size**  | Integer | Size of the **Read-Only Data section** (Range: **100 - 5000**). |\n",
    "| **Text_Size**    | Integer | The size of the executable instruction section in bytes (Range: **500 - 20000**). |\n",
    "| **Input_Type**   | Categorical | The type of input given to the process (e.g., **Numeric, Alphanumeric, Binary**). |\n",
    "| **STS_Class** (Target Variable) | Categorical | The predicted **CPU time slice allocation category**. |\n",
    "\n",
    "---\n",
    "\n",
    "## **2. Target Variable Distribution (STS_Class)**\n",
    "\n",
    "The **STS_Class** (Special Time Slice Class) is the **classification label**:\n",
    "\n",
    "| Class | CPU Burst Time (Ticks) | Description                                                   |\n",
    "|-------|------------------------|---------------------------------------------------------------|\n",
    "| Very short burst     | 0–99 ticks             | Suitable for I/O-bound or highly interactive tasks. |\n",
    "| Short burst     | 100–199 ticks          | Ideal for lightweight CPU tasks with frequent preemption. |\n",
    "| Medium burst     | 200–299 ticks          | Balanced for mixed CPU/I/O workloads (most common class). |\n",
    "| Long burst     | 300–399 ticks          | For CPU-intensive tasks needing sustained execution. |\n",
    "| Very long burst     | 400–500 ticks          | Reserved for heavy CPU-bound processes (e.g., matrix math). |\n",
    "\n",
    "This classification helps in optimizing **Linux CPU scheduling** by dynamically predicting the required CPU burst time."
   ]
  },
  {
   "cell_type": "code",
   "execution_count": 712,
   "metadata": {},
   "outputs": [
    {
     "data": {
      "text/plain": [
       "0"
      ]
     },
     "execution_count": 712,
     "metadata": {},
     "output_type": "execute_result"
    }
   ],
   "source": [
    "df.duplicated().sum()"
   ]
  },
  {
   "cell_type": "code",
   "execution_count": 713,
   "metadata": {},
   "outputs": [
    {
     "data": {
      "text/plain": [
       "InputSize      0\n",
       "ProgramSize    0\n",
       "BSS            0\n",
       "RoData         0\n",
       "Text           0\n",
       "InputType      0\n",
       "STSclass       0\n",
       "dtype: int64"
      ]
     },
     "execution_count": 713,
     "metadata": {},
     "output_type": "execute_result"
    }
   ],
   "source": [
    "df.isnull().sum()"
   ]
  },
  {
   "cell_type": "code",
   "execution_count": 714,
   "metadata": {},
   "outputs": [
    {
     "data": {
      "text/plain": [
       "InputType\n",
       "Sorted            2525\n",
       "Random            2503\n",
       "Constant          2490\n",
       "Reverse Sorted    2481\n",
       "Name: count, dtype: int64"
      ]
     },
     "execution_count": 714,
     "metadata": {},
     "output_type": "execute_result"
    }
   ],
   "source": [
    "df[\"InputType\"].value_counts()"
   ]
  },
  {
   "cell_type": "code",
   "execution_count": 715,
   "metadata": {},
   "outputs": [
    {
     "data": {
      "text/plain": [
       "STSclass\n",
       "Medium burst        3670\n",
       "Long burst          2590\n",
       "Short burst         2545\n",
       "Very long burst      659\n",
       "Very short burst     535\n",
       "Name: count, dtype: int64"
      ]
     },
     "execution_count": 715,
     "metadata": {},
     "output_type": "execute_result"
    }
   ],
   "source": [
    "# Target value counts\n",
    "df[\"STSclass\"].value_counts()"
   ]
  },
  {
   "cell_type": "markdown",
   "metadata": {},
   "source": [
    "This is a imbalanced dataset. So we need to balance this first"
   ]
  },
  {
   "cell_type": "markdown",
   "metadata": {},
   "source": [
    "### Label Encoding"
   ]
  },
  {
   "cell_type": "code",
   "execution_count": 716,
   "metadata": {},
   "outputs": [
    {
     "name": "stdout",
     "output_type": "stream",
     "text": [
      "Mapping for column 'InputType':\n",
      "Label 0: Constant\n",
      "Label 1: Random\n",
      "Label 2: Reverse Sorted\n",
      "Label 3: Sorted\n",
      "Mapping for column 'STSclass':\n",
      "Label 0: Long burst\n",
      "Label 1: Medium burst\n",
      "Label 2: Short burst\n",
      "Label 3: Very long burst\n",
      "Label 4: Very short burst\n"
     ]
    }
   ],
   "source": [
    "# label encoding the data.\n",
    "# Store original column names\n",
    "from sklearn.preprocessing import LabelEncoder\n",
    "original_columns = df.select_dtypes(include='object').columns\n",
    "\n",
    "# Initialize LabelEncoder\n",
    "label_encoders = {}\n",
    "\n",
    "# Apply LabelEncoder to each categorical variable\n",
    "for col in original_columns:\n",
    "    label_encoders[col] = LabelEncoder()\n",
    "    df[col] = label_encoders[col].fit_transform(df[col])\n",
    "\n",
    "# Print the mapping between original categories and numerical labels\n",
    "for col, encoder in label_encoders.items():\n",
    "    print(f\"Mapping for column '{col}':\")\n",
    "    for label, category in enumerate(encoder.classes_):\n",
    "        print(f\"Label {label}: {category}\")"
   ]
  },
  {
   "cell_type": "markdown",
   "metadata": {},
   "source": [
    "## SMOTE"
   ]
  },
  {
   "cell_type": "code",
   "execution_count": 717,
   "metadata": {},
   "outputs": [],
   "source": [
    "# Separating features and target variable\n",
    "X = df.drop(columns=[\"STSclass\"])  # Features\n",
    "y = df[\"STSclass\"]  # Target"
   ]
  },
  {
   "cell_type": "code",
   "execution_count": 718,
   "metadata": {},
   "outputs": [],
   "source": [
    "# Splitting dataset into training and testing sets\n",
    "X_train, X_test, y_train, y_test = train_test_split(X, y, test_size=0.2, random_state=42, stratify=y)"
   ]
  },
  {
   "cell_type": "code",
   "execution_count": 719,
   "metadata": {},
   "outputs": [
    {
     "data": {
      "text/html": [
       "<div>\n",
       "<style scoped>\n",
       "    .dataframe tbody tr th:only-of-type {\n",
       "        vertical-align: middle;\n",
       "    }\n",
       "\n",
       "    .dataframe tbody tr th {\n",
       "        vertical-align: top;\n",
       "    }\n",
       "\n",
       "    .dataframe thead th {\n",
       "        text-align: right;\n",
       "    }\n",
       "</style>\n",
       "<table border=\"1\" class=\"dataframe\">\n",
       "  <thead>\n",
       "    <tr style=\"text-align: right;\">\n",
       "      <th></th>\n",
       "      <th>InputSize</th>\n",
       "      <th>ProgramSize</th>\n",
       "      <th>BSS</th>\n",
       "      <th>RoData</th>\n",
       "      <th>Text</th>\n",
       "      <th>InputType</th>\n",
       "    </tr>\n",
       "  </thead>\n",
       "  <tbody>\n",
       "    <tr>\n",
       "      <th>2079</th>\n",
       "      <td>7254</td>\n",
       "      <td>6939</td>\n",
       "      <td>867</td>\n",
       "      <td>925</td>\n",
       "      <td>9871</td>\n",
       "      <td>1</td>\n",
       "    </tr>\n",
       "    <tr>\n",
       "      <th>8022</th>\n",
       "      <td>5535</td>\n",
       "      <td>39049</td>\n",
       "      <td>298</td>\n",
       "      <td>1752</td>\n",
       "      <td>41315</td>\n",
       "      <td>2</td>\n",
       "    </tr>\n",
       "    <tr>\n",
       "      <th>2964</th>\n",
       "      <td>6726</td>\n",
       "      <td>10919</td>\n",
       "      <td>552</td>\n",
       "      <td>3986</td>\n",
       "      <td>20232</td>\n",
       "      <td>2</td>\n",
       "    </tr>\n",
       "    <tr>\n",
       "      <th>7565</th>\n",
       "      <td>8575</td>\n",
       "      <td>15226</td>\n",
       "      <td>341</td>\n",
       "      <td>842</td>\n",
       "      <td>10568</td>\n",
       "      <td>3</td>\n",
       "    </tr>\n",
       "    <tr>\n",
       "      <th>3059</th>\n",
       "      <td>7637</td>\n",
       "      <td>34692</td>\n",
       "      <td>605</td>\n",
       "      <td>3960</td>\n",
       "      <td>9312</td>\n",
       "      <td>0</td>\n",
       "    </tr>\n",
       "    <tr>\n",
       "      <th>...</th>\n",
       "      <td>...</td>\n",
       "      <td>...</td>\n",
       "      <td>...</td>\n",
       "      <td>...</td>\n",
       "      <td>...</td>\n",
       "      <td>...</td>\n",
       "    </tr>\n",
       "    <tr>\n",
       "      <th>7894</th>\n",
       "      <td>128</td>\n",
       "      <td>39116</td>\n",
       "      <td>611</td>\n",
       "      <td>2423</td>\n",
       "      <td>2616</td>\n",
       "      <td>3</td>\n",
       "    </tr>\n",
       "    <tr>\n",
       "      <th>5114</th>\n",
       "      <td>1020</td>\n",
       "      <td>30196</td>\n",
       "      <td>14</td>\n",
       "      <td>461</td>\n",
       "      <td>17917</td>\n",
       "      <td>3</td>\n",
       "    </tr>\n",
       "    <tr>\n",
       "      <th>1349</th>\n",
       "      <td>906</td>\n",
       "      <td>1591</td>\n",
       "      <td>192</td>\n",
       "      <td>1562</td>\n",
       "      <td>29914</td>\n",
       "      <td>3</td>\n",
       "    </tr>\n",
       "    <tr>\n",
       "      <th>4910</th>\n",
       "      <td>3967</td>\n",
       "      <td>13442</td>\n",
       "      <td>199</td>\n",
       "      <td>3781</td>\n",
       "      <td>16098</td>\n",
       "      <td>0</td>\n",
       "    </tr>\n",
       "    <tr>\n",
       "      <th>5173</th>\n",
       "      <td>5285</td>\n",
       "      <td>4852</td>\n",
       "      <td>948</td>\n",
       "      <td>2712</td>\n",
       "      <td>18008</td>\n",
       "      <td>0</td>\n",
       "    </tr>\n",
       "  </tbody>\n",
       "</table>\n",
       "<p>7999 rows × 6 columns</p>\n",
       "</div>"
      ],
      "text/plain": [
       "      InputSize  ProgramSize  BSS  RoData   Text  InputType\n",
       "2079       7254         6939  867     925   9871          1\n",
       "8022       5535        39049  298    1752  41315          2\n",
       "2964       6726        10919  552    3986  20232          2\n",
       "7565       8575        15226  341     842  10568          3\n",
       "3059       7637        34692  605    3960   9312          0\n",
       "...         ...          ...  ...     ...    ...        ...\n",
       "7894        128        39116  611    2423   2616          3\n",
       "5114       1020        30196   14     461  17917          3\n",
       "1349        906         1591  192    1562  29914          3\n",
       "4910       3967        13442  199    3781  16098          0\n",
       "5173       5285         4852  948    2712  18008          0\n",
       "\n",
       "[7999 rows x 6 columns]"
      ]
     },
     "execution_count": 719,
     "metadata": {},
     "output_type": "execute_result"
    }
   ],
   "source": [
    "X_train"
   ]
  },
  {
   "cell_type": "code",
   "execution_count": 720,
   "metadata": {},
   "outputs": [
    {
     "data": {
      "text/html": [
       "<div>\n",
       "<style scoped>\n",
       "    .dataframe tbody tr th:only-of-type {\n",
       "        vertical-align: middle;\n",
       "    }\n",
       "\n",
       "    .dataframe tbody tr th {\n",
       "        vertical-align: top;\n",
       "    }\n",
       "\n",
       "    .dataframe thead th {\n",
       "        text-align: right;\n",
       "    }\n",
       "</style>\n",
       "<table border=\"1\" class=\"dataframe\">\n",
       "  <thead>\n",
       "    <tr style=\"text-align: right;\">\n",
       "      <th></th>\n",
       "      <th>InputSize</th>\n",
       "      <th>ProgramSize</th>\n",
       "      <th>BSS</th>\n",
       "      <th>RoData</th>\n",
       "      <th>Text</th>\n",
       "      <th>InputType</th>\n",
       "    </tr>\n",
       "  </thead>\n",
       "  <tbody>\n",
       "    <tr>\n",
       "      <th>7328</th>\n",
       "      <td>7930</td>\n",
       "      <td>30215</td>\n",
       "      <td>825</td>\n",
       "      <td>185</td>\n",
       "      <td>40299</td>\n",
       "      <td>3</td>\n",
       "    </tr>\n",
       "    <tr>\n",
       "      <th>2341</th>\n",
       "      <td>6743</td>\n",
       "      <td>47315</td>\n",
       "      <td>207</td>\n",
       "      <td>2331</td>\n",
       "      <td>30989</td>\n",
       "      <td>2</td>\n",
       "    </tr>\n",
       "    <tr>\n",
       "      <th>3793</th>\n",
       "      <td>3358</td>\n",
       "      <td>17075</td>\n",
       "      <td>314</td>\n",
       "      <td>785</td>\n",
       "      <td>36129</td>\n",
       "      <td>1</td>\n",
       "    </tr>\n",
       "    <tr>\n",
       "      <th>8445</th>\n",
       "      <td>6400</td>\n",
       "      <td>49034</td>\n",
       "      <td>353</td>\n",
       "      <td>1258</td>\n",
       "      <td>15206</td>\n",
       "      <td>1</td>\n",
       "    </tr>\n",
       "    <tr>\n",
       "      <th>6159</th>\n",
       "      <td>6501</td>\n",
       "      <td>20023</td>\n",
       "      <td>340</td>\n",
       "      <td>3913</td>\n",
       "      <td>4739</td>\n",
       "      <td>3</td>\n",
       "    </tr>\n",
       "    <tr>\n",
       "      <th>...</th>\n",
       "      <td>...</td>\n",
       "      <td>...</td>\n",
       "      <td>...</td>\n",
       "      <td>...</td>\n",
       "      <td>...</td>\n",
       "      <td>...</td>\n",
       "    </tr>\n",
       "    <tr>\n",
       "      <th>1425</th>\n",
       "      <td>2239</td>\n",
       "      <td>20579</td>\n",
       "      <td>522</td>\n",
       "      <td>1754</td>\n",
       "      <td>2992</td>\n",
       "      <td>3</td>\n",
       "    </tr>\n",
       "    <tr>\n",
       "      <th>2673</th>\n",
       "      <td>9741</td>\n",
       "      <td>46150</td>\n",
       "      <td>792</td>\n",
       "      <td>589</td>\n",
       "      <td>20009</td>\n",
       "      <td>1</td>\n",
       "    </tr>\n",
       "    <tr>\n",
       "      <th>864</th>\n",
       "      <td>946</td>\n",
       "      <td>47542</td>\n",
       "      <td>195</td>\n",
       "      <td>1842</td>\n",
       "      <td>4630</td>\n",
       "      <td>1</td>\n",
       "    </tr>\n",
       "    <tr>\n",
       "      <th>1552</th>\n",
       "      <td>5209</td>\n",
       "      <td>5097</td>\n",
       "      <td>418</td>\n",
       "      <td>3985</td>\n",
       "      <td>30984</td>\n",
       "      <td>2</td>\n",
       "    </tr>\n",
       "    <tr>\n",
       "      <th>853</th>\n",
       "      <td>5442</td>\n",
       "      <td>1082</td>\n",
       "      <td>877</td>\n",
       "      <td>4411</td>\n",
       "      <td>22492</td>\n",
       "      <td>0</td>\n",
       "    </tr>\n",
       "  </tbody>\n",
       "</table>\n",
       "<p>2000 rows × 6 columns</p>\n",
       "</div>"
      ],
      "text/plain": [
       "      InputSize  ProgramSize  BSS  RoData   Text  InputType\n",
       "7328       7930        30215  825     185  40299          3\n",
       "2341       6743        47315  207    2331  30989          2\n",
       "3793       3358        17075  314     785  36129          1\n",
       "8445       6400        49034  353    1258  15206          1\n",
       "6159       6501        20023  340    3913   4739          3\n",
       "...         ...          ...  ...     ...    ...        ...\n",
       "1425       2239        20579  522    1754   2992          3\n",
       "2673       9741        46150  792     589  20009          1\n",
       "864         946        47542  195    1842   4630          1\n",
       "1552       5209         5097  418    3985  30984          2\n",
       "853        5442         1082  877    4411  22492          0\n",
       "\n",
       "[2000 rows x 6 columns]"
      ]
     },
     "execution_count": 720,
     "metadata": {},
     "output_type": "execute_result"
    }
   ],
   "source": [
    "X_test"
   ]
  },
  {
   "cell_type": "code",
   "execution_count": 721,
   "metadata": {},
   "outputs": [
    {
     "data": {
      "text/plain": [
       "2079    2\n",
       "8022    0\n",
       "2964    2\n",
       "7565    2\n",
       "3059    1\n",
       "       ..\n",
       "7894    2\n",
       "5114    1\n",
       "1349    2\n",
       "4910    2\n",
       "5173    2\n",
       "Name: STSclass, Length: 7999, dtype: int32"
      ]
     },
     "execution_count": 721,
     "metadata": {},
     "output_type": "execute_result"
    }
   ],
   "source": [
    "y_train"
   ]
  },
  {
   "cell_type": "code",
   "execution_count": 722,
   "metadata": {},
   "outputs": [
    {
     "data": {
      "text/plain": [
       "7328    0\n",
       "2341    0\n",
       "3793    1\n",
       "8445    1\n",
       "6159    2\n",
       "       ..\n",
       "1425    4\n",
       "2673    0\n",
       "864     2\n",
       "1552    1\n",
       "853     2\n",
       "Name: STSclass, Length: 2000, dtype: int32"
      ]
     },
     "execution_count": 722,
     "metadata": {},
     "output_type": "execute_result"
    }
   ],
   "source": [
    "y_test"
   ]
  },
  {
   "cell_type": "code",
   "execution_count": 723,
   "metadata": {},
   "outputs": [],
   "source": [
    "from imblearn.over_sampling import SMOTE\n",
    "\n",
    "# Applying SMOTE to balance the target classes in the training set\n",
    "smote = SMOTE(random_state=42)\n",
    "X_train_resampled, y_train_resampled = smote.fit_resample(X_train, y_train)"
   ]
  },
  {
   "cell_type": "code",
   "execution_count": 724,
   "metadata": {},
   "outputs": [
    {
     "data": {
      "text/html": [
       "<div>\n",
       "<style scoped>\n",
       "    .dataframe tbody tr th:only-of-type {\n",
       "        vertical-align: middle;\n",
       "    }\n",
       "\n",
       "    .dataframe tbody tr th {\n",
       "        vertical-align: top;\n",
       "    }\n",
       "\n",
       "    .dataframe thead th {\n",
       "        text-align: right;\n",
       "    }\n",
       "</style>\n",
       "<table border=\"1\" class=\"dataframe\">\n",
       "  <thead>\n",
       "    <tr style=\"text-align: right;\">\n",
       "      <th></th>\n",
       "      <th>InputSize</th>\n",
       "      <th>ProgramSize</th>\n",
       "      <th>BSS</th>\n",
       "      <th>RoData</th>\n",
       "      <th>Text</th>\n",
       "      <th>InputType</th>\n",
       "    </tr>\n",
       "  </thead>\n",
       "  <tbody>\n",
       "    <tr>\n",
       "      <th>0</th>\n",
       "      <td>7254</td>\n",
       "      <td>6939</td>\n",
       "      <td>867</td>\n",
       "      <td>925</td>\n",
       "      <td>9871</td>\n",
       "      <td>1</td>\n",
       "    </tr>\n",
       "    <tr>\n",
       "      <th>1</th>\n",
       "      <td>5535</td>\n",
       "      <td>39049</td>\n",
       "      <td>298</td>\n",
       "      <td>1752</td>\n",
       "      <td>41315</td>\n",
       "      <td>2</td>\n",
       "    </tr>\n",
       "    <tr>\n",
       "      <th>2</th>\n",
       "      <td>6726</td>\n",
       "      <td>10919</td>\n",
       "      <td>552</td>\n",
       "      <td>3986</td>\n",
       "      <td>20232</td>\n",
       "      <td>2</td>\n",
       "    </tr>\n",
       "    <tr>\n",
       "      <th>3</th>\n",
       "      <td>8575</td>\n",
       "      <td>15226</td>\n",
       "      <td>341</td>\n",
       "      <td>842</td>\n",
       "      <td>10568</td>\n",
       "      <td>3</td>\n",
       "    </tr>\n",
       "    <tr>\n",
       "      <th>4</th>\n",
       "      <td>7637</td>\n",
       "      <td>34692</td>\n",
       "      <td>605</td>\n",
       "      <td>3960</td>\n",
       "      <td>9312</td>\n",
       "      <td>0</td>\n",
       "    </tr>\n",
       "    <tr>\n",
       "      <th>...</th>\n",
       "      <td>...</td>\n",
       "      <td>...</td>\n",
       "      <td>...</td>\n",
       "      <td>...</td>\n",
       "      <td>...</td>\n",
       "      <td>...</td>\n",
       "    </tr>\n",
       "    <tr>\n",
       "      <th>14675</th>\n",
       "      <td>4815</td>\n",
       "      <td>6451</td>\n",
       "      <td>922</td>\n",
       "      <td>3255</td>\n",
       "      <td>1720</td>\n",
       "      <td>1</td>\n",
       "    </tr>\n",
       "    <tr>\n",
       "      <th>14676</th>\n",
       "      <td>9446</td>\n",
       "      <td>8908</td>\n",
       "      <td>348</td>\n",
       "      <td>3011</td>\n",
       "      <td>2465</td>\n",
       "      <td>2</td>\n",
       "    </tr>\n",
       "    <tr>\n",
       "      <th>14677</th>\n",
       "      <td>2104</td>\n",
       "      <td>1835</td>\n",
       "      <td>707</td>\n",
       "      <td>1347</td>\n",
       "      <td>5696</td>\n",
       "      <td>1</td>\n",
       "    </tr>\n",
       "    <tr>\n",
       "      <th>14678</th>\n",
       "      <td>3857</td>\n",
       "      <td>2823</td>\n",
       "      <td>621</td>\n",
       "      <td>3545</td>\n",
       "      <td>2364</td>\n",
       "      <td>3</td>\n",
       "    </tr>\n",
       "    <tr>\n",
       "      <th>14679</th>\n",
       "      <td>737</td>\n",
       "      <td>22165</td>\n",
       "      <td>703</td>\n",
       "      <td>1752</td>\n",
       "      <td>2893</td>\n",
       "      <td>2</td>\n",
       "    </tr>\n",
       "  </tbody>\n",
       "</table>\n",
       "<p>14680 rows × 6 columns</p>\n",
       "</div>"
      ],
      "text/plain": [
       "       InputSize  ProgramSize  BSS  RoData   Text  InputType\n",
       "0           7254         6939  867     925   9871          1\n",
       "1           5535        39049  298    1752  41315          2\n",
       "2           6726        10919  552    3986  20232          2\n",
       "3           8575        15226  341     842  10568          3\n",
       "4           7637        34692  605    3960   9312          0\n",
       "...          ...          ...  ...     ...    ...        ...\n",
       "14675       4815         6451  922    3255   1720          1\n",
       "14676       9446         8908  348    3011   2465          2\n",
       "14677       2104         1835  707    1347   5696          1\n",
       "14678       3857         2823  621    3545   2364          3\n",
       "14679        737        22165  703    1752   2893          2\n",
       "\n",
       "[14680 rows x 6 columns]"
      ]
     },
     "execution_count": 724,
     "metadata": {},
     "output_type": "execute_result"
    }
   ],
   "source": [
    "X_train_resampled"
   ]
  },
  {
   "cell_type": "code",
   "execution_count": 725,
   "metadata": {},
   "outputs": [
    {
     "data": {
      "text/plain": [
       "0        2\n",
       "1        0\n",
       "2        2\n",
       "3        2\n",
       "4        1\n",
       "        ..\n",
       "14675    4\n",
       "14676    4\n",
       "14677    4\n",
       "14678    4\n",
       "14679    4\n",
       "Name: STSclass, Length: 14680, dtype: int32"
      ]
     },
     "execution_count": 725,
     "metadata": {},
     "output_type": "execute_result"
    }
   ],
   "source": [
    "y_train_resampled"
   ]
  },
  {
   "cell_type": "code",
   "execution_count": 726,
   "metadata": {},
   "outputs": [
    {
     "data": {
      "text/plain": [
       "STSclass\n",
       "2    2936\n",
       "0    2936\n",
       "1    2936\n",
       "3    2936\n",
       "4    2936\n",
       "Name: count, dtype: int64"
      ]
     },
     "execution_count": 726,
     "metadata": {},
     "output_type": "execute_result"
    }
   ],
   "source": [
    "# Display class distribution after SMOTE\n",
    "y_train_resampled.value_counts()"
   ]
  },
  {
   "cell_type": "markdown",
   "metadata": {},
   "source": [
    "# # Algorithm Implemendation"
   ]
  },
  {
   "cell_type": "code",
   "execution_count": 727,
   "metadata": {},
   "outputs": [
    {
     "name": "stdout",
     "output_type": "stream",
     "text": [
      "Classification report for Decision Tree:\n",
      "              precision    recall  f1-score   support\n",
      "\n",
      "           0       0.76      0.70      0.73       518\n",
      "           1       0.76      0.70      0.73       734\n",
      "           2       0.73      0.79      0.76       509\n",
      "           3       0.66      0.92      0.77       132\n",
      "           4       0.68      0.75      0.71       107\n",
      "\n",
      "    accuracy                           0.74      2000\n",
      "   macro avg       0.72      0.77      0.74      2000\n",
      "weighted avg       0.74      0.74      0.74      2000\n",
      "\n",
      "Confusion Matrix for Decision Tree:\n",
      "[[361  96   0  61   0]\n",
      " [103 511 120   0   0]\n",
      " [  0  68 403   0  38]\n",
      " [ 11   0   0 121   0]\n",
      " [  0   0  27   0  80]]\n"
     ]
    }
   ],
   "source": [
    "# Initialize Decision Tree Classifier\n",
    "from sklearn.tree import DecisionTreeClassifier\n",
    "# dt_model = DecisionTreeClassifier()\n",
    "dt_model = DecisionTreeClassifier(random_state=42, max_depth=3, min_samples_split=20, min_samples_leaf=10)\n",
    "\n",
    "# Model Training\n",
    "dt_model.fit(X_train_resampled, y_train_resampled)\n",
    "\n",
    "# Model testing\n",
    "y_pred_dt = dt_model.predict(X_test)\n",
    "\n",
    "# Classification report and confusion matrix\n",
    "dt_classification_report = classification_report(y_test, y_pred_dt)\n",
    "print(\"Classification report for Decision Tree:\")\n",
    "print(dt_classification_report)\n",
    "\n",
    "# Confusion matrix\n",
    "# Compute confusion matrix\n",
    "dt_confusion_matrix = confusion_matrix(y_test, y_pred_dt)\n",
    "print(\"Confusion Matrix for Decision Tree:\")\n",
    "print(dt_confusion_matrix)"
   ]
  },
  {
   "cell_type": "code",
   "execution_count": 728,
   "metadata": {},
   "outputs": [
    {
     "name": "stdout",
     "output_type": "stream",
     "text": [
      "Classification report for Random Forest:\n",
      "              precision    recall  f1-score   support\n",
      "\n",
      "           0       0.93      0.94      0.94       518\n",
      "           1       0.95      0.94      0.95       734\n",
      "           2       0.95      0.96      0.95       509\n",
      "           3       0.92      0.92      0.92       132\n",
      "           4       0.92      0.93      0.92       107\n",
      "\n",
      "    accuracy                           0.94      2000\n",
      "   macro avg       0.94      0.94      0.94      2000\n",
      "weighted avg       0.94      0.94      0.94      2000\n",
      "\n",
      "Confusion Matrix for Random Forest:\n",
      "[[488  20   0  10   0]\n",
      " [ 26 692  16   0   0]\n",
      " [  0  13 487   0   9]\n",
      " [ 10   0   0 122   0]\n",
      " [  0   0   8   0  99]]\n"
     ]
    }
   ],
   "source": [
    "# Initialize Random Forest Classifier\n",
    "from sklearn.ensemble import RandomForestClassifier\n",
    "rf_model = RandomForestClassifier()\n",
    "\n",
    "# Model Training\n",
    "rf_model.fit(X_train_resampled, y_train_resampled)\n",
    "\n",
    "# Model testing\n",
    "y_pred_rf = rf_model.predict(X_test)\n",
    "\n",
    "# Classification report and confusion matrix\n",
    "rf_classification_report = classification_report(y_test, y_pred_rf)\n",
    "print(\"Classification report for Random Forest:\")\n",
    "print(rf_classification_report)\n",
    "\n",
    "# Confusion matrix\n",
    "# Compute confusion matrix\n",
    "rf_confusion_matrix = confusion_matrix(y_test, y_pred_rf)\n",
    "print(\"Confusion Matrix for Random Forest:\")\n",
    "print(rf_confusion_matrix)"
   ]
  },
  {
   "cell_type": "code",
   "execution_count": 729,
   "metadata": {},
   "outputs": [
    {
     "name": "stdout",
     "output_type": "stream",
     "text": [
      "Classification report for Stacking Classifier:\n",
      "              precision    recall  f1-score   support\n",
      "\n",
      "           0       0.94      0.95      0.95       518\n",
      "           1       0.96      0.96      0.96       734\n",
      "           2       0.96      0.97      0.96       509\n",
      "           3       0.93      0.90      0.92       132\n",
      "           4       0.96      0.93      0.95       107\n",
      "\n",
      "    accuracy                           0.95      2000\n",
      "   macro avg       0.95      0.94      0.95      2000\n",
      "weighted avg       0.95      0.95      0.95      2000\n",
      "\n",
      "Confusion Matrix for Stacking Classifier:\n",
      "[[491  18   0   9   0]\n",
      " [ 17 703  14   0   0]\n",
      " [  0  13 492   0   4]\n",
      " [ 13   0   0 119   0]\n",
      " [  0   0   7   0 100]]\n"
     ]
    }
   ],
   "source": [
    "# Initialize Random Stacking Classifier\n",
    "from sklearn.ensemble import StackingClassifier\n",
    "from sklearn.linear_model import LogisticRegression\n",
    "\n",
    "# Define the base learners and the meta-learner\n",
    "estimators = [\n",
    "    ('rf', RandomForestClassifier()),\n",
    "    ('dt', DecisionTreeClassifier())\n",
    "]\n",
    "sc_model = StackingClassifier(estimators=estimators, final_estimator=LogisticRegression())\n",
    "\n",
    "# Model Training\n",
    "sc_model.fit(X_train_resampled, y_train_resampled)\n",
    "\n",
    "# Model testing\n",
    "y_pred_sc = sc_model.predict(X_test)\n",
    "\n",
    "# Classification report and confusion matrix\n",
    "sc_classification_report = classification_report(y_test, y_pred_sc)\n",
    "print(\"Classification report for Stacking Classifier:\")\n",
    "print(sc_classification_report)\n",
    "\n",
    "# Confusion matrix\n",
    "# Compute confusion matrix\n",
    "sc_confusion_matrix = confusion_matrix(y_test, y_pred_sc)\n",
    "print(\"Confusion Matrix for Stacking Classifier:\")\n",
    "print(sc_confusion_matrix)"
   ]
  },
  {
   "cell_type": "code",
   "execution_count": 730,
   "metadata": {},
   "outputs": [
    {
     "name": "stdout",
     "output_type": "stream",
     "text": [
      "Classification report for XGBClassifier:\n",
      "              precision    recall  f1-score   support\n",
      "\n",
      "           0       0.95      0.96      0.96       518\n",
      "           1       0.96      0.95      0.96       734\n",
      "           2       0.97      0.96      0.97       509\n",
      "           3       0.96      0.98      0.97       132\n",
      "           4       0.95      0.98      0.96       107\n",
      "\n",
      "    accuracy                           0.96      2000\n",
      "   macro avg       0.96      0.97      0.96      2000\n",
      "weighted avg       0.96      0.96      0.96      2000\n",
      "\n",
      "Confusion Matrix for XGBClassifier:\n",
      "[[497  15   0   6   0]\n",
      " [ 22 700  12   0   0]\n",
      " [  0  14 489   0   6]\n",
      " [  3   0   0 129   0]\n",
      " [  0   0   2   0 105]]\n"
     ]
    }
   ],
   "source": [
    "# Initialize Random XGBoost Classifier\n",
    "from xgboost import XGBClassifier\n",
    "xgb_model = XGBClassifier()\n",
    "\n",
    "# Model Training\n",
    "xgb_model.fit(X_train_resampled, y_train_resampled)\n",
    "\n",
    "# Model testing\n",
    "y_pred_xgb = xgb_model.predict(X_test)\n",
    "\n",
    "# Classification report and confusion matrix\n",
    "xgb_classification_report = classification_report(y_test, y_pred_xgb)\n",
    "print(\"Classification report for XGBClassifier:\")\n",
    "print(xgb_classification_report)\n",
    "\n",
    "# Confusion matrix\n",
    "# Compute confusion matrix\n",
    "xgb_confusion_matrix = confusion_matrix(y_test, y_pred_xgb)\n",
    "print(\"Confusion Matrix for XGBClassifier:\")\n",
    "print(xgb_confusion_matrix)"
   ]
  },
  {
   "cell_type": "markdown",
   "metadata": {},
   "source": [
    "## Model Comparision"
   ]
  },
  {
   "cell_type": "code",
   "execution_count": 733,
   "metadata": {},
   "outputs": [
    {
     "data": {
      "image/png": "[encoded data removed]",
      "text/plain": [
       "<Figure size 1000x600 with 1 Axes>"
      ]
     },
     "metadata": {},
     "output_type": "display_data"
    }
   ],
   "source": [
    "import matplotlib.pyplot as plt\n",
    "import numpy as np\n",
    "\n",
    "# Model names and accuracies for comparison\n",
    "models = ['Decision Tree', 'Random Forest', 'Stacking Classifier', 'XGBoost']\n",
    "accuracies = [0.74, 0.94, 0.95, 0.96]\n",
    "\n",
    "# Create a bar plot for model comparison\n",
    "plt.figure(figsize=(10, 6))\n",
    "plt.bar(models, accuracies, color=['lightblue', 'lightgreen', 'lightcoral', 'lightskyblue'])\n",
    "plt.title('Model Comparison: Accuracy Scores', fontsize=16)\n",
    "plt.xlabel('Model', fontsize=14)\n",
    "plt.ylabel('Accuracy', fontsize=14)\n",
    "plt.ylim(0, 1)\n",
    "plt.show()"
   ]
  },
  {
   "cell_type": "markdown",
   "metadata": {},
   "source": [
    "# # Model saving"
   ]
  },
  {
   "cell_type": "code",
   "execution_count": 734,
   "metadata": {},
   "outputs": [
    {
     "data": {
      "text/plain": [
       "['Models/XGBoost.pkl']"
      ]
     },
     "execution_count": 734,
     "metadata": {},
     "output_type": "execute_result"
    }
   ],
   "source": [
    "import joblib\n",
    "\n",
    "joblib.dump(dt_model, 'Models/Decision_Tree.pkl')\n",
    "joblib.dump(rf_model, 'Models/Random_Forest.pkl')\n",
    "joblib.dump(sc_model, 'Models/Stacking_Classifier.pkl')\n",
    "joblib.dump(xgb_model, 'Models/XGBoost.pkl')"
   ]
  },
  {
   "cell_type": "markdown",
   "metadata": {},
   "source": [
    "# # Model Prediction part"
   ]
  },
  {
   "cell_type": "markdown",
   "metadata": {},
   "source": [
    "Mapping for column 'InputType':\n",
    "* Label 0: Constant\n",
    "* Label 1: Random\n",
    "* Label 2: Reverse Sorted\n",
    "* Label 3: Sorted\n",
    "\n",
    "Mapping for column 'STSclass':\n",
    "* Label 0: Long burst\n",
    "* Label 1: Medium burst\n",
    "* Label 2: Short burst\n",
    "* Label 3: Very long burst\n",
    "* Label 4: Very short burst\n",
    "\n",
    "The **STS_Class** (Special Time Slice Class) is the **classification label**:\n",
    "\n",
    "| Class | CPU Burst Time (Ticks) | Description                                                   |\n",
    "|-------|------------------------|---------------------------------------------------------------|\n",
    "| Very short burst     | 0–99 ticks             | Suitable for I/O-bound or highly interactive tasks. |\n",
    "| Short burst     | 100–199 ticks          | Ideal for lightweight CPU tasks with frequent preemption. |\n",
    "| Medium burst     | 200–299 ticks          | Balanced for mixed CPU/I/O workloads.  |\n",
    "| Long burst     | 300–399 ticks          | For CPU-intensive tasks needing sustained execution. |\n",
    "| Very long burst     | 400–500 ticks          | Reserved for heavy CPU-bound processes. |"
   ]
  },
  {
   "cell_type": "code",
   "execution_count": 750,
   "metadata": {},
   "outputs": [],
   "source": [
    "# Load the model from the file\n",
    "import joblib\n",
    "model = joblib.load(r'Models\\XGBoost.pkl')\n",
    "\n",
    "prediction_labels = {\n",
    "    0: [\"Long burst\", \"300–399 ticks\", \"For CPU-intensive tasks needing sustained execution\"],\n",
    "    1: [\"Medium burst\", \"200–299 ticks\", \"Balanced for mixed CPU/I/O workloads\"],\n",
    "    2: [\"Short burst\", \"100–199 ticks\", \"Ideal for lightweight CPU tasks with frequent preemption\"],\n",
    "    3: [\"Very long burst\", \"400–500 ticks\", \"Reserved for heavy CPU-bound processes\"],\n",
    "    4: [\"Very short burst\", \"0–99 ticks\", \"Suitable for I/O-bound or highly interactive tasks\"]\n",
    "}\n",
    "\n",
    "def prediction_func(input_data):\n",
    "    prediction = model.predict([input_data])\n",
    "    result = prediction_labels[prediction[0]]\n",
    "    print(\"Predicted Class : \", result[0])\n",
    "    print(\"Predicted CPU Burst Time (Ticks) : \", result[1])\n",
    "    print(\"Description : \", result[2])"
   ]
  },
  {
   "cell_type": "markdown",
   "metadata": {},
   "source": [
    "### Example Prediction"
   ]
  },
  {
   "cell_type": "code",
   "execution_count": 751,
   "metadata": {},
   "outputs": [
    {
     "name": "stdout",
     "output_type": "stream",
     "text": [
      "Predicted Class :  Long burst\n",
      "Predicted CPU Burst Time (Ticks) :  300–399 ticks\n",
      "Description :  For CPU-intensive tasks needing sustained execution\n"
     ]
    }
   ],
   "source": [
    "prediction_func([5834, 11138, 473, 592, 46174, 0])"
   ]
  },
  {
   "cell_type": "code",
   "execution_count": 752,
   "metadata": {},
   "outputs": [
    {
     "name": "stdout",
     "output_type": "stream",
     "text": [
      "Predicted Class :  Medium burst\n",
      "Predicted CPU Burst Time (Ticks) :  200–299 ticks\n",
      "Description :  Balanced for mixed CPU/I/O workloads\n"
     ]
    }
   ],
   "source": [
    "prediction_func([5490, 19840, 748, 4880, 21996, 3])"
   ]
  },
  {
   "cell_type": "code",
   "execution_count": 753,
   "metadata": {},
   "outputs": [
    {
     "name": "stdout",
     "output_type": "stream",
     "text": [
      "Predicted Class :  Short burst\n",
      "Predicted CPU Burst Time (Ticks) :  100–199 ticks\n",
      "Description :  Ideal for lightweight CPU tasks with frequent preemption\n"
     ]
    }
   ],
   "source": [
    "prediction_func([7370, 7851, 19, 4492, 18371, 2])"
   ]
  },
  {
   "cell_type": "code",
   "execution_count": 754,
   "metadata": {},
   "outputs": [
    {
     "name": "stdout",
     "output_type": "stream",
     "text": [
      "Predicted Class :  Very long burst\n",
      "Predicted CPU Burst Time (Ticks) :  400–500 ticks\n",
      "Description :  Reserved for heavy CPU-bound processes\n"
     ]
    }
   ],
   "source": [
    "prediction_func([4526, 44824, 592, 4086, 41873, 2])"
   ]
  },
  {
   "cell_type": "code",
   "execution_count": 755,
   "metadata": {},
   "outputs": [
    {
     "name": "stdout",
     "output_type": "stream",
     "text": [
      "Predicted Class :  Very short burst\n",
      "Predicted CPU Burst Time (Ticks) :  0–99 ticks\n",
      "Description :  Suitable for I/O-bound or highly interactive tasks\n"
     ]
    }
   ],
   "source": [
    "prediction_func([289, 5247, 405, 461, 11428, 2])"
   ]
  }
 ],
 "metadata": {
  "kernelspec": {
   "display_name": "Python 3",
   "language": "python",
   "name": "python3"
  },
  "language_info": {
   "codemirror_mode": {
    "name": "ipython",
    "version": 3
   },
   "file_extension": ".py",
   "mimetype": "text/x-python",
   "name": "python",
   "nbconvert_exporter": "python",
   "pygments_lexer": "ipython3",
   "version": "3.10.16"
  }
 },
 "nbformat": 4,
 "nbformat_minor": 2
}
